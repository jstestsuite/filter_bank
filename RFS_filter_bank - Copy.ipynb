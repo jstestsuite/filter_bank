{
 "cells": [
  {
   "cell_type": "code",
   "execution_count": 1,
   "metadata": {},
   "outputs": [],
   "source": []
  },
  {
   "cell_type": "code",
   "execution_count": 2,
   "metadata": {},
   "outputs": [],
   "source": [
    "import numpy as np\n",
    "import matplotlib.pyplot as plt\n",
    "import math\n",
    "pi = math.pi"
   ]
  },
  {
   "cell_type": "code",
   "execution_count": null,
   "metadata": {},
   "outputs": [],
   "source": []
  },
  {
   "cell_type": "code",
   "execution_count": 3,
   "metadata": {},
   "outputs": [],
   "source": [
    "def matlab_style_gauss2D(shape=(3,3),sigma=0.5):\n",
    "    \"\"\"\n",
    "    2D gaussian mask - should give the same result as MATLAB's\n",
    "    fspecial('gaussian',[shape],[sigma])\n",
    "    \"\"\"\n",
    "    m,n = [(ss-1.)/2. for ss in shape]\n",
    "    y,x = np.ogrid[-m:m+1,-n:n+1]\n",
    "    h = np.exp( -(x*x + y*y) / (2.*sigma*sigma) )\n",
    "    h[ h < np.finfo(h.dtype).eps*h.max() ] = 0\n",
    "    sumh = h.sum()\n",
    "    if sumh != 0:\n",
    "        h /= sumh\n",
    "    return h\n",
    "\n",
    "def matlab_style_log2D(shape=(3,3),sigma=0.5):\n",
    "    \"\"\"\n",
    "    2D gaussian mask - should give the same result as MATLAB's\n",
    "    fspecial('gaussian',[shape],[sigma])\n",
    "    \"\"\"\n",
    "    m,n = [(ss-1.)/2. for ss in shape]\n",
    "    y,x = np.ogrid[-m:m+1,-n:n+1]\n",
    "    h = np.exp( -(x*x + y*y) / (2.*sigma*sigma) )\n",
    "    h[ h < np.finfo(h.dtype).eps*h.max() ] = 0\n",
    "    sumh = h.sum()\n",
    "    if sumh != 0:\n",
    "        h /= sumh\n",
    "    h1 = h*(x*x + y*y - 2.*sigma*sigma)/(sigma*sigma**2)\n",
    "    h = h1 - sum(h1)/(shape[0]*shape[1])  \n",
    "    return h"
   ]
  },
  {
   "cell_type": "code",
   "execution_count": 4,
   "metadata": {},
   "outputs": [],
   "source": [
    "#function f=makefilter(scale,phasex,phasey,pts,sup)\n",
    "#  gx=gauss1d(3*scale,0,pts(1,:),phasex);\n",
    "#  gy=gauss1d(scale,0,pts(2,:),phasey);\n",
    "#  f=normalise(reshape(gx.*gy,sup,sup));\n",
    "#return\n",
    "def makefilter(scale,phasex,phasey,pts,sup):\n",
    "    gx=gauss1d(3*scale,0,pts[0,:],phasex);\n",
    "    gy=gauss1d(scale,0,pts[1,:],phasey);\n",
    "    f=normalise(np.reshape(gx*gy,(sup-1,sup-1)));\n",
    "    return f"
   ]
  },
  {
   "cell_type": "code",
   "execution_count": 5,
   "metadata": {},
   "outputs": [],
   "source": [
    "#function g=gauss1d(sigma,mean,x,ord)\n",
    "#% Function to compute gaussian derivatives of order 0 <= ord < 3\n",
    "#% evaluated at x.\n",
    "#  x=x-mean;num=x.*x;\n",
    "#  variance=sigma^2;\n",
    "#  denom=2*variance; \n",
    "#  g=exp(-num/denom)/sqrt(pi*denom);\n",
    "#  switch ord,\n",
    "#    case 1, g=-g.*(x/variance);\n",
    "#    case 2, g=g.*((num-variance)/(variance^2));\n",
    "#  end;\n",
    "#return\n",
    "def gauss1d(sigma,mean,x,ord):\n",
    "  x=x-mean\n",
    "  num=x*x\n",
    "  variance=sigma**2\n",
    "  denom=2*variance\n",
    "  g=np.exp(-num/denom)/np.sqrt(pi*denom)\n",
    "  if (ord ==1):\n",
    "    g=-g*(x/variance)\n",
    "  elif (ord == 2):\n",
    "    g=g*((num-variance)/(variance^2));\n",
    "  return g"
   ]
  },
  {
   "cell_type": "code",
   "execution_count": 6,
   "metadata": {},
   "outputs": [],
   "source": [
    "#function f=normalise(f), f=f-mean(f(:)); f=f/sum(abs(f(:))); return\n",
    "def normalise(f):\n",
    "    f = f-np.mean(f)\n",
    "    f = f/np.sum(np.abs(f))\n",
    "    return f"
   ]
  },
  {
   "cell_type": "code",
   "execution_count": null,
   "metadata": {},
   "outputs": [],
   "source": []
  },
  {
   "cell_type": "code",
   "execution_count": 7,
   "metadata": {},
   "outputs": [],
   "source": [
    "#  SUP=49;                 % Support of the largest filter (must be odd)\n",
    "#  SCALEX=[1,2,4];         % Sigma_{x} for the oriented filters\n",
    "#  NORIENT=6;              % Number of orientations\n",
    "#  NROTINV=2;\n",
    "#  NBAR=length(SCALEX)*NORIENT;\n",
    "#  NEDGE=length(SCALEX)*NORIENT;\n",
    "#  NF=NBAR+NEDGE+NROTINV;\n",
    "#  F=zeros(SUP,SUP,NF);\n",
    "#  hsup=(SUP-1)/2;\n",
    "sup = 12\n",
    "scalex = np.array([1,2])\n",
    "norient =4\n",
    "nrotinv = 2\n",
    "nbar=len(scalex)*norient\n",
    "nedge=len(scalex)*norient\n",
    "nf=nbar+nedge+nrotinv\n",
    "f = np.zeros([sup-1,sup-1,nf])\n",
    "hsup = (sup-1)/2;"
   ]
  },
  {
   "cell_type": "code",
   "execution_count": 8,
   "metadata": {},
   "outputs": [],
   "source": [
    "#  [x,y]=meshgrid([-hsup:hsup],[hsup:-1:-hsup]);\n",
    "#  orgpts=[x(:) y(:)]';\n",
    "xin = np.arange(-hsup, hsup, 1)\n",
    "yin = np.arange(hsup,-hsup,-1)\n",
    "x,y = np.meshgrid(xin,yin)\n",
    "orgpts=np.array([x, y])\n",
    "orgpts = np.reshape(orgpts,(2,(sup-1)**2))  ######needs work...\n",
    "\n"
   ]
  },
  {
   "cell_type": "code",
   "execution_count": 9,
   "metadata": {},
   "outputs": [],
   "source": [
    "#  count=1;\n",
    "#  for scale=1:length(SCALEX),\n",
    "#    for orient=0:NORIENT-1,\n",
    "#      angle=pi*orient/NORIENT;  % Not 2pi as filters have symmetry\n",
    "#      c=cos(angle);s=sin(angle);\n",
    "#      rotpts=[c -s;s c]*orgpts;\n",
    "#      F(:,:,count)=makefilter(SCALEX(scale),0,1,rotpts,SUP);\n",
    "#      F(:,:,count+NEDGE)=makefilter(SCALEX(scale),0,2,rotpts,SUP);\n",
    "#      count=count+1;\n",
    "#    end;\n",
    "#  end; \n",
    "\n",
    "count=0\n",
    "for scale  in range( len(scalex)):\n",
    "    for orient in range(norient):\n",
    "        angle=math.pi*orient/norient;  #Not 2pi as filters have symmetry\n",
    "        c=math.cos(angle)\n",
    "        s=math.sin(angle)      \n",
    "        rotpts=np.matmul(np.array([[c, -s],[s, c]]),orgpts)\n",
    "        f[:,:,count]=makefilter(scalex[scale],0,1,rotpts,sup)\n",
    "        f[:,:,count+nedge]=makefilter(scalex[scale],0,2,rotpts,sup)\n",
    "        count = count+1\n",
    "\n",
    "       "
   ]
  },
  {
   "cell_type": "code",
   "execution_count": 10,
   "metadata": {},
   "outputs": [],
   "source": [
    "#  F(:,:,NBAR+NEDGE+1)=normalise(fspecial('gaussian',SUP,10));\n",
    "#  F(:,:,NBAR+NEDGE+2)=normalise(fspecial('log',SUP,10));\n",
    "\n",
    "f[:,:,nbar+nedge]=normalise(matlab_style_gauss2D((sup-1,sup-1),10))\n",
    "f[:,:,nbar+nedge+1]=normalise(matlab_style_log2D((sup-1,sup-1),10))\n",
    "        \n"
   ]
  },
  {
   "cell_type": "code",
   "execution_count": 11,
   "metadata": {},
   "outputs": [],
   "source": [
    "import os\n",
    "import matplotlib.pyplot as plt\n",
    "import matplotlib.image as mpimg\n",
    "import math\n",
    "import cv2\n",
    "import numpy as np\n",
    "%matplotlib inline"
   ]
  },
  {
   "cell_type": "markdown",
   "metadata": {},
   "source": [
    "fig, axs = plt.subplots(6,8, figsize=(15, 6))\n",
    "fig.subplots_adjust(hspace = .2, wspace=.001)\n",
    "axs = axs.ravel()\n",
    "for i in range(38):\n",
    "    axs[i].axis('off')\n",
    "    axs[i].imshow(f[:,:,i])\n",
    "    axs[i].set_title(i)"
   ]
  },
  {
   "cell_type": "code",
   "execution_count": 12,
   "metadata": {},
   "outputs": [
    {
     "data": {
      "image/png": "[encoded data removed]",
      "text/plain": [
       "<matplotlib.figure.Figure at 0x1bbc232ee48>"
      ]
     },
     "metadata": {},
     "output_type": "display_data"
    }
   ],
   "source": [
    "def plot_figures(figures, nrows = 1, ncols=1, labels=None):\n",
    "    fig, axs = plt.subplots(ncols=ncols, nrows=nrows, figsize=(12, 14))\n",
    "    axs = axs.ravel()\n",
    "    for index, title in zip(range(len(figures)), figures):\n",
    "        axs[index].imshow(figures[title], plt.gray())\n",
    "        if(labels != None):\n",
    "           axs[index].set_title(labels[index])\n",
    "        else:\n",
    "            axs[index].set_title(title)\n",
    "            \n",
    "        axs[index].set_axis_off()\n",
    "        \n",
    "    plt.tight_layout()\n",
    "\n",
    "figures = {}\n",
    "labels = {}\n",
    "my_signs = []\n",
    "index = 0\n",
    "for i in range(18):\n",
    "    #img = cv2.cvtColor(cv2.imread(my_image), cv2.COLOR_BGR2RGB)\n",
    "    #my_signs.append(f[:,:,i])\n",
    "    figures[index] = f[:,:,i]\n",
    "    #labels[index] = name_values[my_labels[index]][1].decode('ascii')\n",
    "    index += 1\n",
    "\n",
    "plot_figures(figures, 3, 7)\n"
   ]
  },
  {
   "cell_type": "markdown",
   "metadata": {},
   "source": [
    "# Load pickled data\n",
    "import pickle\n",
    "import numpy as np\n",
    "# TODO: Fill this in based on where you saved the training and testing data\n",
    "\n",
    "\n",
    "\n",
    "### Data exploration visualization code goes here.\n",
    "### Feel free to use as many code cells as needed.\n",
    "\n",
    "import random\n",
    "import numpy as np\n",
    "import matplotlib.pyplot as plt\n",
    "import cv2\n",
    "%matplotlib inline\n",
    "\n",
    "index = random.randint(0, len(X_train))\n",
    "\n",
    "image = X_train[index].squeeze()\n",
    "#img=cv2.cvtColor(image,cv2.COLOR_BGRA2BGR)[:, :, np.newaxis]\n",
    "print(image.shape)\n",
    "\n",
    "\n",
    "#image = cv2.cvtColor(image, cv2.COLOR_BGR2YUV)\n",
    "#plt.figure(figsize=(15,5))\n",
    "plt.imshow(image)\n",
    "#plt.imshow(img)\n",
    "\n"
   ]
  },
  {
   "cell_type": "markdown",
   "metadata": {},
   "source": [
    "index = random.randint(0, len(X_train))\n",
    "image = X_train[index].squeeze()\n",
    "img = image\n",
    "kernel = np.ones((5,5),np.float32)/25\n",
    "\n",
    "dst = cv2.filter2D(img,-1,f[:,:,1])\n",
    "\n",
    "plt.subplot(131),plt.imshow(img),plt.title('Original')\n",
    "plt.xticks([]), plt.yticks([])\n",
    "plt.subplot(132),plt.imshow(dst),plt.title('Averaging')\n",
    "plt.xticks([]), plt.yticks([])\n",
    "plt.subplot(133),plt.imshow(f[:,:,1]),plt.title('filter')\n",
    "plt.xticks([]), plt.yticks([])\n",
    "plt.show()"
   ]
  },
  {
   "cell_type": "code",
   "execution_count": 13,
   "metadata": {},
   "outputs": [
    {
     "name": "stdout",
     "output_type": "stream",
     "text": [
      "200\n"
     ]
    }
   ],
   "source": [
    "fh = open(\"tiny-imagenet-200/wnids.txt\")\n",
    "count = 0\n",
    "yval = []\n",
    "for line in fh:\n",
    "    nl = ''\n",
    "    for e in line:\n",
    "        if e == '\\n':\n",
    "            break\n",
    "        else:\n",
    "            nl = nl+e\n",
    "    yval.append(nl)\n",
    "    #print(line)\n",
    "    count+=1\n",
    "fh.close()\n",
    "print(count)\n",
    "\n",
    "\n",
    "os.chdir('tiny-imagenet-200/train')\n",
    "#list of folders\n",
    "t2 = os.listdir()\n",
    "#yval of list\n",
    "\n",
    "\n",
    "cwd = os.getcwd()\n",
    "\n",
    "#gets all x values... need to make y[200] oneshot array\n",
    "#change t2[:10] for all pics and change x size\n",
    "size = 5000\n",
    "class_size = 10\n",
    "\n",
    "x = np.zeros([size,64,64,3], dtype='uint8')\n",
    "y = np.zeros([size,class_size])\n",
    "c = 0\n",
    "c2 = 0\n",
    "for d in t2[:10]:\n",
    "    #print(d)\n",
    "    \n",
    "    for f2 in os.listdir(d+'/images'):\n",
    "        x[c,:,:,:]=cv2.imread(cwd+'\\\\'+d+'\\\\images\\\\'+f2)\n",
    "        y[c,c2] = 1\n",
    "        c = c+1\n",
    "        \n",
    "    c2+=1   \n",
    "        \n",
    "        #print(f2)"
   ]
  },
  {
   "cell_type": "code",
   "execution_count": 14,
   "metadata": {},
   "outputs": [
    {
     "name": "stdout",
     "output_type": "stream",
     "text": [
      "(5000, 10)\n",
      "(5000, 64, 64, 3)\n"
     ]
    }
   ],
   "source": [
    "from sklearn.utils import shuffle\n",
    "\n",
    "n_classes = class_size\n",
    "print(y.shape)\n",
    "print(x.shape)\n",
    "x, y = shuffle(x, y)"
   ]
  },
  {
   "cell_type": "code",
   "execution_count": 15,
   "metadata": {},
   "outputs": [
    {
     "name": "stdout",
     "output_type": "stream",
     "text": [
      "[ 0.  0.  1.  0.  0.  0.  0.  0.  0.  0.]\n"
     ]
    },
    {
     "data": {
      "image/png": "[encoded data removed]",
      "text/plain": [
       "<matplotlib.figure.Figure at 0x1bbbf931940>"
      ]
     },
     "metadata": {},
     "output_type": "display_data"
    }
   ],
   "source": [
    "r = 6\n",
    "dst = cv2.filter2D(x[r],-1,f[:,:,1])\n",
    "#plt.imshow(f[:,:,1])\n",
    "plt.imshow(x[r])\n",
    "print(y[r])"
   ]
  },
  {
   "cell_type": "code",
   "execution_count": null,
   "metadata": {},
   "outputs": [],
   "source": []
  },
  {
   "cell_type": "code",
   "execution_count": null,
   "metadata": {},
   "outputs": [],
   "source": [
    "\n",
    "    "
   ]
  },
  {
   "cell_type": "code",
   "execution_count": 16,
   "metadata": {},
   "outputs": [],
   "source": [
    "from sklearn.utils import shuffle\n",
    "\n",
    "\n",
    "\n",
    "#X_test = np.sum(X_test/3, axis=3, keepdims=True)\n",
    "def preprocess(img):\n",
    "    #img = cv2.cvtColor(img, cv2.COLOR_BGR2GRAY)\n",
    "    img_out= img.astype('float32')\n",
    "    #img_out=(img_out-img_out.mean())/img_out.std()\n",
    "    img_out=img_out/255\n",
    "    \n",
    "\n",
    "    return img_out\n",
    "\n",
    "x= preprocess(x)\n",
    "#X_valid, y_valid = preprocess(X_valid, y_valid)\n",
    "#X_test, y_test = preprocess(X_test, y_test)\n",
    "\n",
    "z = 0\n",
    "figures = np.empty([5000,64,64,54], dtype='float32')\n",
    "for image in x:    \n",
    "    \n",
    "    \n",
    "    \n",
    "    for i in range(18):\n",
    "        figures[z,:,:,i*3:i*3+3] =  cv2.filter2D(image,-1,f[:,:,i])\n",
    "        \n",
    "        #figur =  cv2.filter2D(image,-1,f[:,:,i])\n",
    "        \n",
    "    z=z+1\n",
    "  \n"
   ]
  },
  {
   "cell_type": "code",
   "execution_count": 17,
   "metadata": {},
   "outputs": [
    {
     "name": "stderr",
     "output_type": "stream",
     "text": [
      "Using TensorFlow backend.\n"
     ]
    }
   ],
   "source": [
    "\n",
    "import pandas as pd\n",
    "from time import time\n",
    "\n",
    "\n",
    "import tensorflow as tf\n",
    "import keras\n",
    "import keras.layers as layers\n",
    "from keras.models import Sequential\n",
    "from keras.preprocessing.image import ImageDataGenerator\n",
    "from keras.utils.np_utils import to_categorical\n",
    "from keras.callbacks import TensorBoard\n"
   ]
  },
  {
   "cell_type": "code",
   "execution_count": 18,
   "metadata": {},
   "outputs": [
    {
     "name": "stdout",
     "output_type": "stream",
     "text": [
      "_________________________________________________________________\n",
      "Layer (type)                 Output Shape              Param #   \n",
      "=================================================================\n",
      "conv2d_1 (Conv2D)            (None, 64, 64, 54)        1512      \n",
      "_________________________________________________________________\n",
      "max_pooling2d_1 (MaxPooling2 (None, 32, 32, 54)        0         \n",
      "_________________________________________________________________\n",
      "conv2d_2 (Conv2D)            (None, 28, 28, 128)       172928    \n",
      "_________________________________________________________________\n",
      "max_pooling2d_2 (MaxPooling2 (None, 14, 14, 128)       0         \n",
      "_________________________________________________________________\n",
      "conv2d_3 (Conv2D)            (None, 14, 14, 256)       295168    \n",
      "_________________________________________________________________\n",
      "max_pooling2d_3 (MaxPooling2 (None, 7, 7, 256)         0         \n",
      "_________________________________________________________________\n",
      "flatten_1 (Flatten)          (None, 12544)             0         \n",
      "_________________________________________________________________\n",
      "dropout_1 (Dropout)          (None, 12544)             0         \n",
      "_________________________________________________________________\n",
      "dense_1 (Dense)              (None, 4096)              51384320  \n",
      "_________________________________________________________________\n",
      "dense_2 (Dense)              (None, 2048)              8390656   \n",
      "_________________________________________________________________\n",
      "dense_3 (Dense)              (None, 10)                20490     \n",
      "=================================================================\n",
      "Total params: 60,265,074\n",
      "Trainable params: 60,265,074\n",
      "Non-trainable params: 0\n",
      "_________________________________________________________________\n"
     ]
    }
   ],
   "source": [
    "model = keras.Sequential()\n",
    "\n",
    "model.add(layers.Conv2D(filters=54, kernel_size=(3, 3), activation='relu', padding='same',input_shape=(64,64,3)))\n",
    "model.add(layers.MaxPooling2D())\n",
    "#model.add(layers.AveragePooling2D(input_shape=(32,32,12)))\n",
    "\n",
    "model.add(layers.Conv2D(filters=128, kernel_size=(5, 5), activation='relu'))\n",
    "model.add(layers.MaxPooling2D())\n",
    "\n",
    "model.add(layers.Conv2D(filters=256, kernel_size=(3, 3), padding='same', activation='relu'))\n",
    "\n",
    "#model.add(layers.Conv2D(filters=256, kernel_size=(3, 3), padding='same', activation='relu'))\n",
    "\n",
    "#model.add(layers.Conv2D(filters=256, kernel_size=(3, 3), padding='same',activation='relu'))\n",
    "\n",
    "model.add(layers.MaxPooling2D())\n",
    "\n",
    "model.add(layers.Flatten())\n",
    "\n",
    "model.add(layers.Dropout(0.25))\n",
    "\n",
    "#model.add(layers.Dense(units=4096, activation='relu'))\n",
    "\n",
    "model.add(layers.Dense(units=4096, activation='relu'))\n",
    "\n",
    "model.add(layers.Dense(units=2048, activation='relu'))\n",
    "\n",
    "model.add(layers.Dense(units=class_size, activation = 'softmax'))\n",
    "\n",
    "model.summary()"
   ]
  },
  {
   "cell_type": "code",
   "execution_count": 19,
   "metadata": {},
   "outputs": [
    {
     "name": "stdout",
     "output_type": "stream",
     "text": [
      "_________________________________________________________________\n",
      "Layer (type)                 Output Shape              Param #   \n",
      "=================================================================\n",
      "max_pooling2d_4 (MaxPooling2 (None, 32, 32, 54)        0         \n",
      "_________________________________________________________________\n",
      "conv2d_4 (Conv2D)            (None, 28, 28, 128)       172928    \n",
      "_________________________________________________________________\n",
      "max_pooling2d_5 (MaxPooling2 (None, 14, 14, 128)       0         \n",
      "_________________________________________________________________\n",
      "conv2d_5 (Conv2D)            (None, 14, 14, 256)       295168    \n",
      "_________________________________________________________________\n",
      "max_pooling2d_6 (MaxPooling2 (None, 7, 7, 256)         0         \n",
      "_________________________________________________________________\n",
      "flatten_2 (Flatten)          (None, 12544)             0         \n",
      "_________________________________________________________________\n",
      "dropout_2 (Dropout)          (None, 12544)             0         \n",
      "_________________________________________________________________\n",
      "dense_4 (Dense)              (None, 4096)              51384320  \n",
      "_________________________________________________________________\n",
      "dense_5 (Dense)              (None, 2048)              8390656   \n",
      "_________________________________________________________________\n",
      "dense_6 (Dense)              (None, 10)                20490     \n",
      "=================================================================\n",
      "Total params: 60,263,562\n",
      "Trainable params: 60,263,562\n",
      "Non-trainable params: 0\n",
      "_________________________________________________________________\n"
     ]
    }
   ],
   "source": [
    "model2 = keras.Sequential()\n",
    "\n",
    "#model2.add(layers.Conv2D(filters=54, kernel_size=(3, 3), activation='relu', input_shape=(64,64,3)))\n",
    "model2.add(layers.MaxPooling2D(input_shape=(64,64,54)))\n",
    "#model.add(layers.AveragePooling2D(input_shape=(32,32,12)))\n",
    "\n",
    "model2.add(layers.Conv2D(filters=128, kernel_size=(5, 5), activation='relu'))\n",
    "model2.add(layers.MaxPooling2D())\n",
    "\n",
    "model2.add(layers.Conv2D(filters=256, kernel_size=(3, 3), padding='same', activation='relu'))\n",
    "\n",
    "#model.add(layers.Conv2D(filters=256, kernel_size=(3, 3), padding='same', activation='relu'))\n",
    "\n",
    "#model.add(layers.Conv2D(filters=256, kernel_size=(3, 3), padding='same',activation='relu'))\n",
    "\n",
    "model2.add(layers.MaxPooling2D())\n",
    "\n",
    "model2.add(layers.Flatten())\n",
    "\n",
    "model2.add(layers.Dropout(0.25))\n",
    "\n",
    "#model.add(layers.Dense(units=4096, activation='relu'))\n",
    "\n",
    "model2.add(layers.Dense(units=4096, activation='relu'))\n",
    "\n",
    "model2.add(layers.Dense(units=2048, activation='relu'))\n",
    "\n",
    "model2.add(layers.Dense(units=class_size, activation = 'softmax'))\n",
    "\n",
    "model2.summary()"
   ]
  },
  {
   "cell_type": "code",
   "execution_count": 20,
   "metadata": {},
   "outputs": [],
   "source": [
    "model2.compile(loss=keras.losses.categorical_crossentropy, optimizer=keras.optimizers.Adam(), metrics=['accuracy'])\n",
    "EPOCHS = 10\n",
    "BATCH_SIZE = 128"
   ]
  },
  {
   "cell_type": "code",
   "execution_count": 21,
   "metadata": {},
   "outputs": [],
   "source": [
    "#tensorboard = TensorBoard(log_dir=\"logs/{}\".format(time()))\n",
    "#model.fit_generator(train_generator, steps_per_epoch=steps_per_epoch, epochs=EPOCHS, \n",
    "#                    validation_data=validation_generator, validation_steps=validation_steps, \n",
    "#                    shuffle=True, callbacks=[tensorboard])\n"
   ]
  },
  {
   "cell_type": "code",
   "execution_count": 22,
   "metadata": {},
   "outputs": [
    {
     "name": "stdout",
     "output_type": "stream",
     "text": [
      "Epoch 1/10\n",
      "5000/5000 [==============================] - 20s 4ms/step - loss: 2.1352 - acc: 0.1940\n",
      "Epoch 2/10\n",
      "5000/5000 [==============================] - 17s 3ms/step - loss: 1.8458 - acc: 0.3424\n",
      "Epoch 3/10\n",
      "5000/5000 [==============================] - 17s 3ms/step - loss: 1.6918 - acc: 0.3976\n",
      "Epoch 4/10\n",
      "5000/5000 [==============================] - 17s 3ms/step - loss: 1.5268 - acc: 0.4664\n",
      "Epoch 5/10\n",
      "5000/5000 [==============================] - 17s 3ms/step - loss: 1.3364 - acc: 0.5306\n",
      "Epoch 6/10\n",
      "5000/5000 [==============================] - 17s 3ms/step - loss: 1.1237 - acc: 0.6098\n",
      "Epoch 7/10\n",
      "5000/5000 [==============================] - 17s 3ms/step - loss: 0.8440 - acc: 0.7088\n",
      "Epoch 8/10\n",
      "5000/5000 [==============================] - 17s 3ms/step - loss: 0.5198 - acc: 0.8252\n",
      "Epoch 9/10\n",
      "5000/5000 [==============================] - 16s 3ms/step - loss: 0.3293 - acc: 0.8912\n",
      "Epoch 10/10\n",
      "5000/5000 [==============================] - 16s 3ms/step - loss: 0.2501 - acc: 0.9248\n"
     ]
    }
   ],
   "source": [
    "\n",
    "m2 = model2.fit(figures, y,  epochs=10)\n"
   ]
  },
  {
   "cell_type": "code",
   "execution_count": 23,
   "metadata": {},
   "outputs": [],
   "source": [
    "#model2.evaluate(figures2, y_test)"
   ]
  },
  {
   "cell_type": "code",
   "execution_count": 24,
   "metadata": {},
   "outputs": [
    {
     "name": "stdout",
     "output_type": "stream",
     "text": [
      "Epoch 1/10\n",
      "5000/5000 [==============================] - 16s 3ms/step - loss: 2.2029 - acc: 0.1860\n",
      "Epoch 2/10\n",
      "5000/5000 [==============================] - 15s 3ms/step - loss: 1.8988 - acc: 0.3044\n",
      "Epoch 3/10\n",
      "5000/5000 [==============================] - 15s 3ms/step - loss: 1.7508 - acc: 0.3678\n",
      "Epoch 4/10\n",
      "5000/5000 [==============================] - 15s 3ms/step - loss: 1.5947 - acc: 0.4264\n",
      "Epoch 5/10\n",
      "5000/5000 [==============================] - 15s 3ms/step - loss: 1.4352 - acc: 0.4952\n",
      "Epoch 6/10\n",
      "5000/5000 [==============================] - 15s 3ms/step - loss: 1.3117 - acc: 0.5378\n",
      "Epoch 7/10\n",
      "5000/5000 [==============================] - 15s 3ms/step - loss: 1.1244 - acc: 0.6020\n",
      "Epoch 8/10\n",
      "5000/5000 [==============================] - 15s 3ms/step - loss: 0.9363 - acc: 0.6726\n",
      "Epoch 9/10\n",
      "5000/5000 [==============================] - 15s 3ms/step - loss: 0.7754 - acc: 0.7320\n",
      "Epoch 10/10\n",
      "5000/5000 [==============================] - 15s 3ms/step - loss: 0.5706 - acc: 0.8058\n"
     ]
    }
   ],
   "source": [
    "model.compile(loss=keras.losses.categorical_crossentropy, optimizer=keras.optimizers.Adam(), metrics=['accuracy'])\n",
    "m= model.fit(x, y, epochs=10)"
   ]
  },
  {
   "cell_type": "code",
   "execution_count": 25,
   "metadata": {},
   "outputs": [],
   "source": [
    "#model.evaluate(X_test, y_test)"
   ]
  },
  {
   "cell_type": "code",
   "execution_count": 26,
   "metadata": {},
   "outputs": [
    {
     "name": "stdout",
     "output_type": "stream",
     "text": [
      "[ 0.  0.  0.  0.  0.  0.  0.  1.  0.  0.]\n"
     ]
    },
    {
     "data": {
      "image/png": "[encoded data removed]",
      "text/plain": [
       "<matplotlib.figure.Figure at 0x1bbd986e128>"
      ]
     },
     "metadata": {},
     "output_type": "display_data"
    }
   ],
   "source": [
    "r = 0\n",
    "x2 = np.sum(x/3, axis=3, keepdims=True)\n",
    "dst = cv2.filter2D(x[r],-1,f[:,:,1])\n",
    "plt.imshow(dst[:,:,1])\n",
    "#plt.imshow(x[r])\n",
    "print(y[r])"
   ]
  },
  {
   "cell_type": "code",
   "execution_count": 27,
   "metadata": {},
   "outputs": [
    {
     "data": {
      "text/plain": [
       "[<matplotlib.lines.Line2D at 0x1bbd9a48940>]"
      ]
     },
     "execution_count": 27,
     "metadata": {},
     "output_type": "execute_result"
    },
    {
     "data": {
      "image/png": "[encoded data removed]",
      "text/plain": [
       "<matplotlib.figure.Figure at 0x1bbd9a0cb70>"
      ]
     },
     "metadata": {},
     "output_type": "display_data"
    }
   ],
   "source": [
    "plt.plot(m2.history['acc'])\n",
    "plt.plot(m.history['acc'])"
   ]
  },
  {
   "cell_type": "code",
   "execution_count": 30,
   "metadata": {},
   "outputs": [
    {
     "name": "stdout",
     "output_type": "stream",
     "text": [
      "[ 0.  0.  0.  0.  0.  0.  0.  0.  0.  1.]\n"
     ]
    },
    {
     "data": {
      "image/png": "[encoded data removed]",
      "text/plain": [
       "<matplotlib.figure.Figure at 0x1bd7d2a6be0>"
      ]
     },
     "metadata": {},
     "output_type": "display_data"
    }
   ],
   "source": [
    "r = 4\n",
    "#x2 = np.sum(x/3, axis=3, keepdims=True)\n",
    "dst = cv2.filter2D(x[r],-1,f[:,:,0])\n",
    "plt.imshow(dst[:,:,0])\n",
    "#plt.imshow(x[r])\n",
    "print(y[r])\n",
    "\n",
    "#figur = np.empty([1,64,64,20], dtype='float32')\n",
    "i = 2\n",
    "z = 0\n",
    "    \n",
    "\n"
   ]
  },
  {
   "cell_type": "code",
   "execution_count": 31,
   "metadata": {},
   "outputs": [
    {
     "data": {
      "text/plain": [
       "<matplotlib.image.AxesImage at 0x1bd7d377240>"
      ]
     },
     "execution_count": 31,
     "metadata": {},
     "output_type": "execute_result"
    },
    {
     "data": {
      "image/png": "[encoded data removed]",
      "text/plain": [
       "<matplotlib.figure.Figure at 0x1bd7d2cda90>"
      ]
     },
     "metadata": {},
     "output_type": "display_data"
    }
   ],
   "source": [
    "plt.imshow(figures[0,:,:,0])"
   ]
  },
  {
   "cell_type": "code",
   "execution_count": 32,
   "metadata": {},
   "outputs": [
    {
     "data": {
      "text/plain": [
       "(5000, 64, 64, 54)"
      ]
     },
     "execution_count": 32,
     "metadata": {},
     "output_type": "execute_result"
    }
   ],
   "source": [
    "figures.shape"
   ]
  },
  {
   "cell_type": "code",
   "execution_count": null,
   "metadata": {},
   "outputs": [],
   "source": []
  }
 ],
 "metadata": {
  "kernelspec": {
   "display_name": "Python 3",
   "language": "python",
   "name": "python3"
  },
  "language_info": {
   "codemirror_mode": {
    "name": "ipython",
    "version": 3
   },
   "file_extension": ".py",
   "mimetype": "text/x-python",
   "name": "python",
   "nbconvert_exporter": "python",
   "pygments_lexer": "ipython3",
   "version": "3.5.2"
  },
  "widgets": {
   "state": {},
   "version": "1.1.2"
  }
 },
 "nbformat": 4,
 "nbformat_minor": 2
}
