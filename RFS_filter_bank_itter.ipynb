{
 "cells": [
  {
   "cell_type": "code",
   "execution_count": 2,
   "metadata": {},
   "outputs": [
    {
     "name": "stderr",
     "output_type": "stream",
     "text": [
      "Using TensorFlow backend.\n"
     ]
    }
   ],
   "source": [
    "import numpy as np\n",
    "import matplotlib.pyplot as plt\n",
    "import math\n",
    "import csv\n",
    "import argparse\n",
    "from sklearn.utils import shuffle\n",
    "from keras.layers.core import Dense, Activation, Flatten, Dropout, Lambda\n",
    "from keras.layers.convolutional import Conv2D, Cropping2D\n",
    "from keras.models import load_model\n",
    "import pandas as pd\n",
    "from time import time\n",
    "import tensorflow as tf\n",
    "import keras\n",
    "import keras.layers as layers\n",
    "from keras.models import Sequential\n",
    "from keras.preprocessing.image import ImageDataGenerator\n",
    "from keras.utils.np_utils import to_categorical\n",
    "import os\n",
    "import matplotlib.image as mpimg\n",
    "import cv2\n",
    "pi = math.pi\n",
    "%matplotlib inline"
   ]
  },
  {
   "cell_type": "code",
   "execution_count": 3,
   "metadata": {},
   "outputs": [],
   "source": [
    "def matlab_style_gauss2D(shape=(3,3),sigma=0.5):\n",
    "    \"\"\"\n",
    "    2D gaussian mask - should give the same result as MATLAB's\n",
    "    fspecial('gaussian',[shape],[sigma])\n",
    "    \"\"\"\n",
    "    m,n = [(ss-1.)/2. for ss in shape]\n",
    "    y,x = np.ogrid[-m:m+1,-n:n+1]\n",
    "    h = np.exp( -(x*x + y*y) / (2.*sigma*sigma) )\n",
    "    h[ h < np.finfo(h.dtype).eps*h.max() ] = 0\n",
    "    sumh = h.sum()\n",
    "    if sumh != 0:\n",
    "        h /= sumh\n",
    "    return h\n",
    "\n",
    "def matlab_style_log2D(shape=(3,3),sigma=0.5):\n",
    "    \"\"\"\n",
    "    2D gaussian mask - should give the same result as MATLAB's\n",
    "    fspecial('gaussian',[shape],[sigma])\n",
    "    \"\"\"\n",
    "    m,n = [(ss-1.)/2. for ss in shape]\n",
    "    y,x = np.ogrid[-m:m+1,-n:n+1]\n",
    "    h = np.exp( -(x*x + y*y) / (2.*sigma*sigma) )\n",
    "    h[ h < np.finfo(h.dtype).eps*h.max() ] = 0\n",
    "    sumh = h.sum()\n",
    "    if sumh != 0:\n",
    "        h /= sumh\n",
    "    h1 = h*(x*x + y*y - 2.*sigma*sigma)/(sigma*sigma**2)\n",
    "    h = h1 - sum(h1)/(shape[0]*shape[1])  \n",
    "    return h"
   ]
  },
  {
   "cell_type": "code",
   "execution_count": 4,
   "metadata": {},
   "outputs": [],
   "source": [
    "def makefilter(scale,phasex,phasey,pts,sup):\n",
    "    gx=gauss1d(3*scale,0,pts[0,:],phasex);\n",
    "    gy=gauss1d(scale,0,pts[1,:],phasey);\n",
    "    f=normalise(np.reshape(gx*gy,(sup-1,sup-1)));\n",
    "    return f"
   ]
  },
  {
   "cell_type": "code",
   "execution_count": 5,
   "metadata": {},
   "outputs": [],
   "source": [
    "def gauss1d(sigma,mean,x,ord):\n",
    "  x=x-mean\n",
    "  num=x*x\n",
    "  variance=sigma**2\n",
    "  denom=2*variance\n",
    "  g=np.exp(-num/denom)/np.sqrt(pi*denom)\n",
    "  if (ord ==1):\n",
    "    g=-g*(x/variance)\n",
    "  elif (ord == 2):\n",
    "    g=g*((num-variance)/(variance^2));\n",
    "  return g"
   ]
  },
  {
   "cell_type": "code",
   "execution_count": 6,
   "metadata": {},
   "outputs": [],
   "source": [
    "def normalise(f):\n",
    "    f = f-np.mean(f)\n",
    "    f = f/np.sum(np.abs(f))\n",
    "    return f"
   ]
  },
  {
   "cell_type": "code",
   "execution_count": 7,
   "metadata": {},
   "outputs": [],
   "source": [
    "sup = 12\n",
    "scalex = np.array([1,2])\n",
    "norient =4\n",
    "nrotinv = 2\n",
    "nbar=len(scalex)*norient\n",
    "nedge=len(scalex)*norient\n",
    "nf=nbar+nedge+nrotinv\n",
    "f = np.zeros([sup-1,sup-1,nf])\n",
    "hsup = (sup-1)/2;"
   ]
  },
  {
   "cell_type": "code",
   "execution_count": 8,
   "metadata": {},
   "outputs": [],
   "source": [
    "xin = np.arange(-hsup, hsup, 1)\n",
    "yin = np.arange(hsup,-hsup,-1)\n",
    "x,y = np.meshgrid(xin,yin)\n",
    "orgpts=np.array([x, y])\n",
    "orgpts = np.reshape(orgpts,(2,(sup-1)**2))  "
   ]
  },
  {
   "cell_type": "code",
   "execution_count": 9,
   "metadata": {},
   "outputs": [],
   "source": [
    "count=0\n",
    "for scale  in range( len(scalex)):\n",
    "    for orient in range(norient):\n",
    "        angle=math.pi*orient/norient;  #Not 2pi as filters have symmetry\n",
    "        c=math.cos(angle)\n",
    "        s=math.sin(angle)      \n",
    "        rotpts=np.matmul(np.array([[c, -s],[s, c]]),orgpts)\n",
    "        f[:,:,count]=makefilter(scalex[scale],0,1,rotpts,sup)\n",
    "        f[:,:,count+nedge]=makefilter(scalex[scale],0,2,rotpts,sup)\n",
    "        count = count+1     "
   ]
  },
  {
   "cell_type": "code",
   "execution_count": 10,
   "metadata": {},
   "outputs": [],
   "source": [
    "f[:,:,nbar+nedge]=normalise(matlab_style_gauss2D((sup-1,sup-1),10))\n",
    "f[:,:,nbar+nedge+1]=normalise(matlab_style_log2D((sup-1,sup-1),10))"
   ]
  },
  {
   "cell_type": "code",
   "execution_count": 12,
   "metadata": {},
   "outputs": [
    {
     "name": "stdout",
     "output_type": "stream",
     "text": [
      "200\n"
     ]
    }
   ],
   "source": [
    "fh = open(\"tiny-imagenet-200/wnids.txt\")\n",
    "count = 0\n",
    "yval = []\n",
    "for line in fh:\n",
    "    nl = ''\n",
    "    for e in line:\n",
    "        if e == '\\n':\n",
    "            break\n",
    "        else:\n",
    "            nl = nl+e\n",
    "    yval.append(nl)\n",
    "    #print(line)\n",
    "    count+=1\n",
    "fh.close()\n",
    "print(count)\n",
    "\n",
    "os.chdir('tiny-imagenet-200/train')\n",
    "t2 = os.listdir()\n",
    "cwd = os.getcwd()\n",
    "\n",
    "class_size = 200\n",
    "size = 500*class_size\n",
    "\n",
    "x = []\n",
    "y = np.zeros([size,class_size])\n",
    "c = 0\n",
    "c2 = 0\n",
    "for d in t2: \n",
    "    for f2 in os.listdir(d+'/images'):\n",
    "        x.append(cwd+'\\\\'+d+'\\\\images\\\\'+f2)\n",
    "        y[c,c2] = 1\n",
    "        c = c+1        \n",
    "    c2+=1    \n"
   ]
  },
  {
   "cell_type": "code",
   "execution_count": 13,
   "metadata": {},
   "outputs": [],
   "source": [
    "os.chdir('..')\n",
    "os.chdir('..')\n",
    "\n",
    "fh = open(\"tiny-imagenet-200/val/val_annotations.txt\")\n",
    "count = 0\n",
    "yval = []\n",
    "yspot = []\n",
    "for line in fh:\n",
    "    nl = ''\n",
    "    nl2 = ''\n",
    "    for e in line:\n",
    "        if (e == '\\t'):\n",
    "            count +=1\n",
    "        elif (count ==0):\n",
    "            nl2 = nl2 +e\n",
    "        elif (count == 1): \n",
    "            nl = nl+e\n",
    "        elif count > 1: \n",
    "            break\n",
    "    yval.append(nl)\n",
    "    yspot.append(nl2)\n",
    "    #print(line)\n",
    "    count = 0\n",
    "fh.close()\n",
    "\n",
    "os.chdir('tiny-imagenet-200/train')\n",
    "t3 = os.listdir()\n",
    "\n",
    "os.chdir('..')\n",
    "os.chdir('..')\n",
    "\n",
    "os.chdir('tiny-imagenet-200/val/images')\n",
    "t2 = os.listdir()\n",
    "cwd = os.getcwd()\n",
    "\n",
    "class_size = 200\n",
    "sizev = 10000\n",
    "\n",
    "xv = []\n",
    "yv = np.zeros([sizev,class_size])\n",
    "c = 0\n",
    "c2 = 0\n",
    "for d in yspot:\n",
    "    xv.append(cwd+'\\\\'+d)\n",
    "    yv[c, t3.index(yval[c])] = 1\n",
    "    c = c+1"
   ]
  },
  {
   "cell_type": "code",
   "execution_count": 14,
   "metadata": {},
   "outputs": [],
   "source": [
    "import random\n",
    "\n",
    "def preprocess(img):\n",
    "    img_out= img.astype('float32')\n",
    "    img_out=img_out/255\n",
    "    return img_out\n",
    "\n",
    "def generator(x, y, batch_size=128):\n",
    "    num_samples = len(x)\n",
    "    x, y = shuffle(x, y)\n",
    "    while True:\n",
    "        images = []\n",
    "        angles = []        \n",
    "        for offset in range(0, num_samples, batch_size):\n",
    "            images = []\n",
    "            batch_y = y[offset:offset + batch_size]\n",
    "            batch_x = x[offset:offset + batch_size]            \n",
    "            for z in batch_x:\n",
    "                images.append(cv2.imread(z))\n",
    "            for h in batch_y:\n",
    "                angles.append(h)\n",
    "            X_train = np.array(images)\n",
    "            y_train = np.array(batch_y)\n",
    "            X_train = preprocess(X_train)            \n",
    "            yield X_train, y_train\n",
    " \n",
    "            \n",
    "def generator_filter(x, y, batch_size=128):\n",
    "    num_samples = len(x)\n",
    "    x, y = shuffle(x, y)\n",
    "    while True:\n",
    "        images = []\n",
    "        angles = []\n",
    "        figures = np.empty([64,64,54], dtype='float32')      \n",
    "        for offset in range(0, num_samples, batch_size):\n",
    "            images = []\n",
    "            figures = np.empty([64,64,54], dtype='float32')\n",
    "            batch_y = y[offset:offset + batch_size]\n",
    "            batch_x = x[offset:offset + batch_size]         \n",
    "            for z in batch_x:             \n",
    "                imag=preprocess(cv2.imread(z))\n",
    "                figures = np.empty([64,64,54], dtype='float32')\n",
    "                for i in range(18):\n",
    "                    figures[:,:,i*3:i*3+3] =  cv2.filter2D(imag,-1,f[:,:,i])\n",
    "                images.append(figures)\n",
    "            for h in batch_y:\n",
    "                angles.append(h)\n",
    "            X_train = np.array(images)\n",
    "            y_train = np.array(batch_y)\n",
    "            yield X_train, y_train\n",
    "\n",
    "train_generator = generator(x,y)\n",
    "val_generator = generator(xv,yv)\n",
    "filter_generator = generator_filter(x,y)\n",
    "val_filter_generator = generator_filter(xv,yv)"
   ]
  },
  {
   "cell_type": "code",
   "execution_count": 15,
   "metadata": {},
   "outputs": [
    {
     "name": "stdout",
     "output_type": "stream",
     "text": [
      "_________________________________________________________________\n",
      "Layer (type)                 Output Shape              Param #   \n",
      "=================================================================\n",
      "conv2d_1 (Conv2D)            (None, 64, 64, 54)        1512      \n",
      "_________________________________________________________________\n",
      "max_pooling2d_1 (MaxPooling2 (None, 32, 32, 54)        0         \n",
      "_________________________________________________________________\n",
      "conv2d_2 (Conv2D)            (None, 28, 28, 128)       172928    \n",
      "_________________________________________________________________\n",
      "max_pooling2d_2 (MaxPooling2 (None, 14, 14, 128)       0         \n",
      "_________________________________________________________________\n",
      "conv2d_3 (Conv2D)            (None, 14, 14, 256)       295168    \n",
      "_________________________________________________________________\n",
      "max_pooling2d_3 (MaxPooling2 (None, 7, 7, 256)         0         \n",
      "_________________________________________________________________\n",
      "flatten_1 (Flatten)          (None, 12544)             0         \n",
      "_________________________________________________________________\n",
      "dropout_1 (Dropout)          (None, 12544)             0         \n",
      "_________________________________________________________________\n",
      "dense_1 (Dense)              (None, 4096)              51384320  \n",
      "_________________________________________________________________\n",
      "dense_2 (Dense)              (None, 2048)              8390656   \n",
      "_________________________________________________________________\n",
      "dense_3 (Dense)              (None, 200)               409800    \n",
      "=================================================================\n",
      "Total params: 60,654,384\n",
      "Trainable params: 60,654,384\n",
      "Non-trainable params: 0\n",
      "_________________________________________________________________\n"
     ]
    }
   ],
   "source": [
    "model = Sequential()\n",
    "model.add(layers.Conv2D(filters=54, kernel_size=(3, 3), activation='relu', padding='same',input_shape=(64,64,3)))\n",
    "model.add(layers.MaxPooling2D())\n",
    "model.add(layers.Conv2D(filters=128, kernel_size=(5, 5), activation='relu'))\n",
    "model.add(layers.MaxPooling2D())\n",
    "model.add(layers.Conv2D(filters=256, kernel_size=(3, 3), padding='same', activation='relu'))\n",
    "model.add(layers.MaxPooling2D())\n",
    "model.add(layers.Flatten())\n",
    "model.add(layers.Dropout(0.50))\n",
    "model.add(layers.Dense(units=4096, activation='relu'))\n",
    "model.add(layers.Dense(units=2048, activation='relu'))\n",
    "model.add(layers.Dense(units=class_size, activation = 'softmax'))\n",
    "model.summary()"
   ]
  },
  {
   "cell_type": "code",
   "execution_count": 19,
   "metadata": {},
   "outputs": [
    {
     "name": "stdout",
     "output_type": "stream",
     "text": [
      "_________________________________________________________________\n",
      "Layer (type)                 Output Shape              Param #   \n",
      "=================================================================\n",
      "max_pooling2d_4 (MaxPooling2 (None, 32, 32, 54)        0         \n",
      "_________________________________________________________________\n",
      "conv2d_4 (Conv2D)            (None, 28, 28, 128)       172928    \n",
      "_________________________________________________________________\n",
      "max_pooling2d_5 (MaxPooling2 (None, 14, 14, 128)       0         \n",
      "_________________________________________________________________\n",
      "conv2d_5 (Conv2D)            (None, 14, 14, 256)       295168    \n",
      "_________________________________________________________________\n",
      "max_pooling2d_6 (MaxPooling2 (None, 7, 7, 256)         0         \n",
      "_________________________________________________________________\n",
      "flatten_2 (Flatten)          (None, 12544)             0         \n",
      "_________________________________________________________________\n",
      "dropout_2 (Dropout)          (None, 12544)             0         \n",
      "_________________________________________________________________\n",
      "dense_4 (Dense)              (None, 4096)              51384320  \n",
      "_________________________________________________________________\n",
      "dense_5 (Dense)              (None, 2048)              8390656   \n",
      "_________________________________________________________________\n",
      "dense_6 (Dense)              (None, 200)               409800    \n",
      "=================================================================\n",
      "Total params: 60,652,872\n",
      "Trainable params: 60,652,872\n",
      "Non-trainable params: 0\n",
      "_________________________________________________________________\n"
     ]
    }
   ],
   "source": [
    "filter_model = Sequential()\n",
    "filter_model.add(layers.MaxPooling2D(input_shape=(64,64,54)))\n",
    "filter_model.add(layers.Conv2D(filters=128, kernel_size=(5, 5), activation='relu'))\n",
    "filter_model.add(layers.MaxPooling2D())\n",
    "filter_model.add(layers.Conv2D(filters=256, kernel_size=(3, 3), padding='same', activation='relu'))\n",
    "filter_model.add(layers.MaxPooling2D())\n",
    "filter_model.add(layers.Flatten())\n",
    "filter_model.add(layers.Dropout(0.50))\n",
    "filter_model.add(layers.Dense(units=4096, activation='relu'))\n",
    "filter_model.add(layers.Dense(units=2048, activation='relu'))\n",
    "filter_model.add(layers.Dense(units=class_size, activation = 'softmax'))\n",
    "filter_model.summary() "
   ]
  },
  {
   "cell_type": "code",
   "execution_count": 20,
   "metadata": {
    "scrolled": true
   },
   "outputs": [
    {
     "name": "stdout",
     "output_type": "stream",
     "text": [
      "Epoch 1/15\n",
      "782/781 [==============================] - 517s 661ms/step - loss: 4.7002 - acc: 0.0545 - val_loss: 4.0760 - val_acc: 0.1184\n",
      "Epoch 2/15\n",
      "782/781 [==============================] - 502s 642ms/step - loss: 3.8364 - acc: 0.1563 - val_loss: 3.6096 - val_acc: 0.2024\n",
      "Epoch 3/15\n",
      "782/781 [==============================] - 503s 643ms/step - loss: 3.4230 - acc: 0.2263 - val_loss: 3.4600 - val_acc: 0.2309\n",
      "Epoch 4/15\n",
      "782/781 [==============================] - 503s 643ms/step - loss: 3.0672 - acc: 0.2886 - val_loss: 3.4005 - val_acc: 0.2480\n",
      "Epoch 5/15\n",
      "782/781 [==============================] - 504s 644ms/step - loss: 2.7210 - acc: 0.3513 - val_loss: 3.4775 - val_acc: 0.2515\n",
      "Epoch 6/15\n",
      "782/781 [==============================] - 489s 625ms/step - loss: 2.3713 - acc: 0.4171 - val_loss: 3.6440 - val_acc: 0.2528\n",
      "Epoch 7/15\n",
      "782/781 [==============================] - 475s 607ms/step - loss: 2.0459 - acc: 0.4854 - val_loss: 4.0370 - val_acc: 0.2351\n",
      "Epoch 8/15\n",
      "782/781 [==============================] - 474s 606ms/step - loss: 1.7537 - acc: 0.5451 - val_loss: 4.1756 - val_acc: 0.2366\n",
      "Epoch 9/15\n",
      "782/781 [==============================] - 476s 609ms/step - loss: 1.5103 - acc: 0.6003 - val_loss: 4.3471 - val_acc: 0.2351\n",
      "Epoch 10/15\n",
      "782/781 [==============================] - 472s 604ms/step - loss: 1.2936 - acc: 0.6499 - val_loss: 4.7202 - val_acc: 0.2262\n",
      "Epoch 11/15\n",
      "782/781 [==============================] - 471s 602ms/step - loss: 1.1184 - acc: 0.6939 - val_loss: 5.0220 - val_acc: 0.2278\n",
      "Epoch 12/15\n",
      "782/781 [==============================] - 471s 602ms/step - loss: 0.9747 - acc: 0.7322 - val_loss: 5.1249 - val_acc: 0.2257\n",
      "Epoch 13/15\n",
      "782/781 [==============================] - 467s 598ms/step - loss: 0.8523 - acc: 0.7629 - val_loss: 5.5052 - val_acc: 0.2240\n",
      "Epoch 14/15\n",
      "782/781 [==============================] - 468s 599ms/step - loss: 0.7701 - acc: 0.7856 - val_loss: 5.5856 - val_acc: 0.2231\n",
      "Epoch 15/15\n",
      "782/781 [==============================] - 469s 600ms/step - loss: 0.6854 - acc: 0.8114 - val_loss: 5.8564 - val_acc: 0.2259\n"
     ]
    }
   ],
   "source": [
    "filter_model.compile(loss=keras.losses.categorical_crossentropy, optimizer=keras.optimizers.Adam(), metrics=['accuracy'])\n",
    "fm = filter_model.fit_generator(filter_generator, steps_per_epoch=size/128,epochs=15, \n",
    "                                validation_data = val_filter_generator, validation_steps = 10000/128)"
   ]
  },
  {
   "cell_type": "code",
   "execution_count": 22,
   "metadata": {},
   "outputs": [
    {
     "name": "stdout",
     "output_type": "stream",
     "text": [
      "Saved model to disk\n"
     ]
    }
   ],
   "source": [
    "os.chdir('..')\n",
    "os.chdir('..')\n",
    "os.chdir('..')\n",
    "\n",
    "#serialize model to JSON\n",
    "model_json = filter_model.to_json()\n",
    "with open(\"filter_model.json\", \"w\") as json_file:\n",
    "    json_file.write(model_json)\n",
    "# serialize weights to HDF5\n",
    "filter_model.save_weights(\"filter_model.h5\")\n",
    "print(\"Saved model to disk\")"
   ]
  },
  {
   "cell_type": "code",
   "execution_count": 16,
   "metadata": {
    "scrolled": true
   },
   "outputs": [
    {
     "name": "stdout",
     "output_type": "stream",
     "text": [
      "Epoch 1/15\n",
      "782/781 [==============================] - 132s 168ms/step - loss: 5.0926 - acc: 0.0190 - val_loss: 4.6300 - val_acc: 0.0544\n",
      "Epoch 2/15\n",
      "782/781 [==============================] - 124s 159ms/step - loss: 4.2274 - acc: 0.1055 - val_loss: 3.9338 - val_acc: 0.1414\n",
      "Epoch 3/15\n",
      "782/781 [==============================] - 125s 160ms/step - loss: 3.7139 - acc: 0.1810 - val_loss: 3.7073 - val_acc: 0.1832\n",
      "Epoch 4/15\n",
      "782/781 [==============================] - 125s 160ms/step - loss: 3.3946 - acc: 0.2313 - val_loss: 3.5330 - val_acc: 0.2184\n",
      "Epoch 5/15\n",
      "782/781 [==============================] - 125s 159ms/step - loss: 3.1432 - acc: 0.2730 - val_loss: 3.5191 - val_acc: 0.2252\n",
      "Epoch 6/15\n",
      "782/781 [==============================] - 125s 159ms/step - loss: 2.8872 - acc: 0.3174 - val_loss: 3.5311 - val_acc: 0.2318\n",
      "Epoch 7/15\n",
      "782/781 [==============================] - 125s 159ms/step - loss: 2.6441 - acc: 0.3633 - val_loss: 3.6089 - val_acc: 0.2359\n",
      "Epoch 8/15\n",
      "782/781 [==============================] - 124s 159ms/step - loss: 2.3839 - acc: 0.4118 - val_loss: 3.8263 - val_acc: 0.2269\n",
      "Epoch 9/15\n",
      "782/781 [==============================] - 125s 159ms/step - loss: 2.1510 - acc: 0.4599 - val_loss: 4.0043 - val_acc: 0.2242\n",
      "Epoch 10/15\n",
      "782/781 [==============================] - 125s 159ms/step - loss: 1.9425 - acc: 0.5035 - val_loss: 4.1473 - val_acc: 0.2297\n",
      "Epoch 11/15\n",
      "782/781 [==============================] - 125s 159ms/step - loss: 1.7356 - acc: 0.5453 - val_loss: 4.4357 - val_acc: 0.2210\n",
      "Epoch 12/15\n",
      "782/781 [==============================] - 125s 160ms/step - loss: 1.5522 - acc: 0.5886 - val_loss: 4.7339 - val_acc: 0.2073\n",
      "Epoch 13/15\n",
      "782/781 [==============================] - 125s 160ms/step - loss: 1.3798 - acc: 0.6302 - val_loss: 5.1952 - val_acc: 0.2048\n",
      "Epoch 14/15\n",
      "782/781 [==============================] - 125s 160ms/step - loss: 1.2369 - acc: 0.6609 - val_loss: 5.2836 - val_acc: 0.2048\n",
      "Epoch 15/15\n",
      "782/781 [==============================] - 125s 160ms/step - loss: 1.1034 - acc: 0.6952 - val_loss: 5.3605 - val_acc: 0.2058\n"
     ]
    }
   ],
   "source": [
    "model.compile(loss=keras.losses.categorical_crossentropy, optimizer=keras.optimizers.Adam(), metrics=['accuracy'])\n",
    "m = model.fit_generator(train_generator, steps_per_epoch=size/128,epochs=15\n",
    "                        ,validation_data = val_generator, validation_steps = 10000/128)"
   ]
  },
  {
   "cell_type": "code",
   "execution_count": 21,
   "metadata": {},
   "outputs": [
    {
     "data": {
      "text/plain": [
       "[<matplotlib.lines.Line2D at 0x284f314ca90>]"
      ]
     },
     "execution_count": 21,
     "metadata": {},
     "output_type": "execute_result"
    },
    {
     "data": {
      "image/png": "[encoded data removed]",
      "text/plain": [
       "<matplotlib.figure.Figure at 0x284e89216a0>"
      ]
     },
     "metadata": {},
     "output_type": "display_data"
    }
   ],
   "source": [
    "plt.plot(fm.history['val_acc'])\n",
    "plt.plot(fm.history['acc'])"
   ]
  },
  {
   "cell_type": "code",
   "execution_count": 17,
   "metadata": {},
   "outputs": [
    {
     "data": {
      "text/plain": [
       "[<matplotlib.lines.Line2D at 0x284dcae5c88>]"
      ]
     },
     "execution_count": 17,
     "metadata": {},
     "output_type": "execute_result"
    },
    {
     "data": {
      "image/png": "[encoded data removed]",
      "text/plain": [
       "<matplotlib.figure.Figure at 0x284dcae5a58>"
      ]
     },
     "metadata": {},
     "output_type": "display_data"
    }
   ],
   "source": [
    "\n",
    "plt.plot(m.history['val_acc'])\n",
    "plt.plot(m.history['acc'])"
   ]
  },
  {
   "cell_type": "code",
   "execution_count": 18,
   "metadata": {},
   "outputs": [
    {
     "name": "stdout",
     "output_type": "stream",
     "text": [
      "Saved model to disk\n"
     ]
    }
   ],
   "source": [
    " #serialize model to JSON\n",
    "os.chdir('..')\n",
    "os.chdir('..')\n",
    "os.chdir('..')\n",
    "model_json = model.to_json()\n",
    "with open(\"model.json\", \"w\") as json_file:\n",
    "    json_file.write(model_json)\n",
    "# serialize weights to HDF5\n",
    "model.save_weights(\"model.h5\")\n",
    "print(\"Saved model to disk\")"
   ]
  }
 ],
 "metadata": {
  "kernelspec": {
   "display_name": "Python 3",
   "language": "python",
   "name": "python3"
  },
  "language_info": {
   "codemirror_mode": {
    "name": "ipython",
    "version": 3
   },
   "file_extension": ".py",
   "mimetype": "text/x-python",
   "name": "python",
   "nbconvert_exporter": "python",
   "pygments_lexer": "ipython3",
   "version": "3.5.2"
  },
  "widgets": {
   "state": {},
   "version": "1.1.2"
  }
 },
 "nbformat": 4,
 "nbformat_minor": 2
}
